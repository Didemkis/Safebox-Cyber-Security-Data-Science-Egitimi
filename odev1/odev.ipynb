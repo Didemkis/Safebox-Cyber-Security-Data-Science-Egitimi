{
 "cells": [
  {
   "cell_type": "code",
   "execution_count": 29,
   "id": "c9f66b65",
   "metadata": {},
   "outputs": [],
   "source": [
    "def giris():\n",
    "    username =input(\"Kullanıcı adı girin: \")\n",
    "    password = input(\"Şifreyi girin:\")\n",
    "    with open('kullanıcıBilgileri.txt') as f:\n",
    "        lines = f.readlines()\n",
    "    if(username in lines ) and (password in lines):\n",
    "        print(\"Giriş yapıldı!\")\n",
    "    else:\n",
    "        print(\"Kullanıcı bulunamadı!\")\n"
   ]
  },
  {
   "cell_type": "code",
   "execution_count": 31,
   "id": "75368517",
   "metadata": {},
   "outputs": [
    {
     "name": "stdout",
     "output_type": "stream",
     "text": [
      "Kullanıcı adı girin: didem\n",
      "Şifreyi girin:1234\n",
      "Giriş yapıldı!\n"
     ]
    }
   ],
   "source": [
    "giris()"
   ]
  },
  {
   "cell_type": "code",
   "execution_count": null,
   "id": "64c720aa",
   "metadata": {},
   "outputs": [],
   "source": []
  }
 ],
 "metadata": {
  "kernelspec": {
   "display_name": "Python 3 (ipykernel)",
   "language": "python",
   "name": "python3"
  },
  "language_info": {
   "codemirror_mode": {
    "name": "ipython",
    "version": 3
   },
   "file_extension": ".py",
   "mimetype": "text/x-python",
   "name": "python",
   "nbconvert_exporter": "python",
   "pygments_lexer": "ipython3",
   "version": "3.11.3"
  }
 },
 "nbformat": 4,
 "nbformat_minor": 5
}
